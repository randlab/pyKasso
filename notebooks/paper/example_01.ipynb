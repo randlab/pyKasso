{
 "cells": [
  {
   "attachments": {},
   "cell_type": "markdown",
   "id": "4304ce3d",
   "metadata": {},
   "source": [
    "# Paper - Example 1"
   ]
  },
  {
   "cell_type": "markdown",
   "id": "69458ae3",
   "metadata": {},
   "source": [
    "## Initialization"
   ]
  },
  {
   "cell_type": "code",
   "execution_count": 1,
   "id": "9a970df8",
   "metadata": {},
   "outputs": [],
   "source": [
    "# Import the pyKasso package\n",
    "import pykasso as pk"
   ]
  },
  {
   "cell_type": "code",
   "execution_count": 2,
   "id": "fa1d3b02",
   "metadata": {},
   "outputs": [],
   "source": [
    "# Import the pyKasso package\n",
    "import pykasso as pk\n",
    "\n",
    "# Create a pyKasso application\n",
    "app = pk.pykasso()\n",
    "\n",
    "# Declare the grid parameters\n",
    "grid_parameters = {\n",
    "    'x0': 0,\n",
    "    'y0': 0,\n",
    "    'z0': 0,\n",
    "    'nx': 300,\n",
    "    'ny': 300,\n",
    "    'nz': 1,\n",
    "    'dx': 10,\n",
    "    'dy': 10,\n",
    "    'dz': 10,\n",
    "}\n",
    "\n",
    "# Declare the project parameters\n",
    "app.new_project(name='example_01', grid_parameters=grid_parameters)"
   ]
  },
  {
   "cell_type": "code",
   "execution_count": 23,
   "id": "cd1212e0",
   "metadata": {},
   "outputs": [],
   "source": [
    "# Declare the model parameters\n",
    "model_parameters = {\n",
    "    'sks' : {},\n",
    "    'outlets' : {\n",
    "        'data' : [[2990, 1500]],\n",
    "        'number' : 1,\n",
    "    },\n",
    "    'inlets' : {\n",
    "        'data' : [[0, 1500]],\n",
    "        'number': 1,\n",
    "    },\n",
    "    'fractures' : {\n",
    "        'generate': {\n",
    "            'family_01': {\n",
    "                'density'      : 0.00005,\n",
    "                'orientation'  : 135,\n",
    "                'dip'          : 90,\n",
    "                'length'       : 300,\n",
    "            },\n",
    "            'family_02': {\n",
    "                'density'      : 0.00005,\n",
    "                'orientation'  : 45,\n",
    "                'dip'          : 90,\n",
    "                'length'       : 500,\n",
    "            }\n",
    "        }\n",
    "    }\n",
    "}"
   ]
  },
  {
   "cell_type": "markdown",
   "id": "d8c7b724",
   "metadata": {},
   "source": [
    "## Compute"
   ]
  },
  {
   "cell_type": "code",
   "execution_count": 24,
   "id": "5f1a1e2e",
   "metadata": {},
   "outputs": [],
   "source": [
    "# Compute 100 simulation in a row\n",
    "for i in range(1):\n",
    "    model_parameters['sks']['seed'] = i\n",
    "    app.model.generate(model_parameters=model_parameters)"
   ]
  },
  {
   "cell_type": "code",
   "execution_count": 25,
   "id": "d293da64",
   "metadata": {},
   "outputs": [],
   "source": [
    "# app.model.iterations"
   ]
  },
  {
   "cell_type": "code",
   "execution_count": 26,
   "id": "7b49e39a",
   "metadata": {},
   "outputs": [
    {
     "data": {
      "text/html": [
       "<div>\n",
       "<style scoped>\n",
       "    .dataframe tbody tr th:only-of-type {\n",
       "        vertical-align: middle;\n",
       "    }\n",
       "\n",
       "    .dataframe tbody tr th {\n",
       "        vertical-align: top;\n",
       "    }\n",
       "\n",
       "    .dataframe thead th {\n",
       "        text-align: right;\n",
       "    }\n",
       "</style>\n",
       "<table border=\"1\" class=\"dataframe\">\n",
       "  <thead>\n",
       "    <tr style=\"text-align: right;\">\n",
       "      <th></th>\n",
       "      <th>x</th>\n",
       "      <th>y</th>\n",
       "      <th>z</th>\n",
       "      <th>outlet_iteration</th>\n",
       "    </tr>\n",
       "  </thead>\n",
       "  <tbody>\n",
       "    <tr>\n",
       "      <th>0</th>\n",
       "      <td>2990.000000</td>\n",
       "      <td>1500.000000</td>\n",
       "      <td>-0.709656</td>\n",
       "      <td>0</td>\n",
       "    </tr>\n",
       "    <tr>\n",
       "      <th>1</th>\n",
       "      <td>2890.000000</td>\n",
       "      <td>1500.000000</td>\n",
       "      <td>3.454358</td>\n",
       "      <td>0</td>\n",
       "    </tr>\n",
       "    <tr>\n",
       "      <th>2</th>\n",
       "      <td>2790.000000</td>\n",
       "      <td>1500.000000</td>\n",
       "      <td>0.382308</td>\n",
       "      <td>0</td>\n",
       "    </tr>\n",
       "    <tr>\n",
       "      <th>3</th>\n",
       "      <td>2690.000000</td>\n",
       "      <td>1500.000000</td>\n",
       "      <td>-0.682744</td>\n",
       "      <td>0</td>\n",
       "    </tr>\n",
       "    <tr>\n",
       "      <th>4</th>\n",
       "      <td>1849.748092</td>\n",
       "      <td>2939.111565</td>\n",
       "      <td>-3.109735</td>\n",
       "      <td>0</td>\n",
       "    </tr>\n",
       "  </tbody>\n",
       "</table>\n",
       "</div>"
      ],
      "text/plain": [
       "             x            y         z  outlet_iteration\n",
       "0  2990.000000  1500.000000 -0.709656                 0\n",
       "1  2890.000000  1500.000000  3.454358                 0\n",
       "2  2790.000000  1500.000000  0.382308                 0\n",
       "3  2690.000000  1500.000000 -0.682744                 0\n",
       "4  1849.748092  2939.111565 -3.109735                 0"
      ]
     },
     "execution_count": 26,
     "metadata": {},
     "output_type": "execute_result"
    }
   ],
   "source": [
    "app.model._outlets"
   ]
  },
  {
   "cell_type": "code",
   "execution_count": null,
   "id": "a2cb6691",
   "metadata": {},
   "outputs": [],
   "source": [
    "# app.model.outlets"
   ]
  },
  {
   "cell_type": "code",
   "execution_count": null,
   "id": "4af33829",
   "metadata": {},
   "outputs": [],
   "source": [
    "# app.model.conceptual_model_table"
   ]
  },
  {
   "cell_type": "markdown",
   "id": "e6316e7a",
   "metadata": {},
   "source": [
    "## Plot results"
   ]
  },
  {
   "cell_type": "code",
   "execution_count": null,
   "id": "386a28f6",
   "metadata": {},
   "outputs": [],
   "source": [
    "# Plot the last simulated karstic conduit network\n",
    "f01 = app.visualizer.mpl_plot_2D(feature='karst',\n",
    "                                 imshow_options={'cmap': 'binary'},\n",
    "                                 scatter_inlets_options={},\n",
    "                                 scatter_outlets_options={},\n",
    "                                 )\n",
    "f01.fig.savefig('fig/example_01_karst', bbox_inches='tight')\n",
    "f01.fig"
   ]
  },
  {
   "cell_type": "code",
   "execution_count": null,
   "id": "a37396ed",
   "metadata": {},
   "outputs": [],
   "source": [
    "# Plot the fracturation model\n",
    "f02 = app.visualizer.mpl_plot_2D(feature='fractures',\n",
    "                                 imshow_options={'cmap': 'binary'},\n",
    "                                 )\n",
    "f02.fig.savefig('fig/example_01_fracturation', bbox_inches='tight')\n",
    "f02.fig"
   ]
  },
  {
   "cell_type": "code",
   "execution_count": null,
   "id": "ac64068f",
   "metadata": {},
   "outputs": [],
   "source": [
    "# Plot the cost array\n",
    "f03 = app.visualizer.mpl_plot_2D(feature='cost',\n",
    "                                 imshow_options={'cmap': 'binary'},\n",
    "                                 )\n",
    "f03.fig.savefig('fig/example_01_cost', bbox_inches='tight')\n",
    "f03.fig"
   ]
  },
  {
   "cell_type": "code",
   "execution_count": null,
   "id": "d403d9ad",
   "metadata": {},
   "outputs": [],
   "source": [
    "# Plot the time travel array\n",
    "f04 = app.visualizer.mpl_plot_2D(feature='time',\n",
    "                                 imshow_options={'cmap': 'binary'},\n",
    "                                 )\n",
    "f04.fig.savefig('fig/example_01_time', bbox_inches='tight')\n",
    "f04.fig"
   ]
  },
  {
   "cell_type": "code",
   "execution_count": null,
   "id": "5493c6ab",
   "metadata": {},
   "outputs": [],
   "source": [
    "# Compute the mean of all the simulated karstic networks\n",
    "mean = app.analyzer.compute_stats_on_networks('mean')\n",
    "extent = app.project.grid.extent\n",
    "imshow_options = {\n",
    "    'extent' : extent,\n",
    "    'cmap' : 'binary',\n",
    "    'vmin' : 0,\n",
    "    'vmax' : 0.1\n",
    "}\n",
    "f05 = app.visualizer.mpl_plot_array_2D(array=mean,\n",
    "                                       imshow_options=imshow_options\n",
    "                                       )\n",
    "f05.fig.savefig('fig/example_01_mean_karstic_network', bbox_inches='tight')\n",
    "f05.fig"
   ]
  }
 ],
 "metadata": {
  "kernelspec": {
   "display_name": "Python 3 (ipykernel)",
   "language": "python",
   "name": "python3"
  },
  "language_info": {
   "codemirror_mode": {
    "name": "ipython",
    "version": 3
   },
   "file_extension": ".py",
   "mimetype": "text/x-python",
   "name": "python",
   "nbconvert_exporter": "python",
   "pygments_lexer": "ipython3",
   "version": "3.9.19"
  },
  "vscode": {
   "interpreter": {
    "hash": "4413b7a1516cd768ea3ac68cc197c3d7aee95b3034134a5d88d14bfdfd96b022"
   }
  }
 },
 "nbformat": 4,
 "nbformat_minor": 5
}
